{
 "cells": [
  {
   "cell_type": "code",
   "execution_count": 24,
   "id": "e952aca9",
   "metadata": {},
   "outputs": [],
   "source": [
    "import requests \n",
    "import pandas as pd\n",
    "from bs4 import BeautifulSoup"
   ]
  },
  {
   "cell_type": "code",
   "execution_count": 25,
   "id": "1e45e705",
   "metadata": {},
   "outputs": [],
   "source": [
    "html_content = '''\n",
    "<table>\n",
    "  <tr>\n",
    "    <th>Student</th>\n",
    "    <th>Favourite Computer Language</th>\n",
    "    <th>Years of Experience</th>\n",
    "  </tr>\n",
    "  <tr>\n",
    "    <td>Fred</td>\n",
    "    <td>Kotlin</td>\n",
    "    <td>4</td>\n",
    "  </tr>\n",
    "  <tr>\n",
    "    <td>Paula</td>\n",
    "    <td>Python</td>\n",
    "    <td>2</td>\n",
    "  </tr>\n",
    "  <tr>\n",
    "    <td>Ernst</td>\n",
    "    <td>Java</td>\n",
    "    <td>7</td>\n",
    "  </tr>\n",
    "  <tr>\n",
    "    <td>Isabel</td>\n",
    "    <td>C++</td>\n",
    "    <td>3</td>\n",
    "  </tr>\n",
    "  <tr>\n",
    "    <td>Tony</td>\n",
    "    <td>Pearl</td>\n",
    "    <td>7</td>\n",
    "  </tr>\n",
    "  <tr>\n",
    "    <td>Maria</td>\n",
    "    <td>Cobol</td>\n",
    "    <td>15</td>\n",
    "  </tr>\n",
    "</table>\n",
    "'''"
   ]
  },
  {
   "cell_type": "code",
   "execution_count": 26,
   "id": "7bf01af9",
   "metadata": {},
   "outputs": [],
   "source": [
    "soup = BeautifulSoup(html_content, 'html.parser')"
   ]
  },
  {
   "cell_type": "code",
   "execution_count": 27,
   "id": "0aaf871a",
   "metadata": {},
   "outputs": [],
   "source": [
    "table_rows = soup.find_all('tr')"
   ]
  },
  {
   "cell_type": "code",
   "execution_count": 28,
   "id": "a396cd18",
   "metadata": {},
   "outputs": [],
   "source": [
    "headers = [th.text.strip() for th in table_rows[0].find_all('th')]"
   ]
  },
  {
   "cell_type": "code",
   "execution_count": 29,
   "id": "b9a9cbed",
   "metadata": {},
   "outputs": [],
   "source": [
    "data = {header: [] for header in headers}\n"
   ]
  },
  {
   "cell_type": "code",
   "execution_count": 30,
   "id": "89ec56b4",
   "metadata": {},
   "outputs": [],
   "source": [
    "for row in table_rows[1:]:\n",
    "    row_data = row.find_all('td')\n",
    "    for i, cell in enumerate(row_data):\n",
    "        data[headers[i]].append(cell.text.strip())\n",
    "        \n",
    "        "
   ]
  },
  {
   "cell_type": "code",
   "execution_count": 31,
   "id": "5a970b8a",
   "metadata": {},
   "outputs": [
    {
     "name": "stdout",
     "output_type": "stream",
     "text": [
      "  Student Favourite Computer Language Years of Experience\n",
      "0    Fred                      Kotlin                   4\n",
      "1   Paula                      Python                   2\n",
      "2   Ernst                        Java                   7\n",
      "3  Isabel                         C++                   3\n",
      "4    Tony                       Pearl                   7\n",
      "5   Maria                       Cobol                  15\n"
     ]
    }
   ],
   "source": [
    "df = pd.DataFrame(data)\n",
    "\n",
    "print(df)"
   ]
  },
  {
   "cell_type": "code",
   "execution_count": null,
   "id": "2da34a6a",
   "metadata": {},
   "outputs": [],
   "source": []
  },
  {
   "cell_type": "code",
   "execution_count": null,
   "id": "5fee5f9b",
   "metadata": {},
   "outputs": [],
   "source": []
  }
 ],
 "metadata": {
  "kernelspec": {
   "display_name": "Python 3 (ipykernel)",
   "language": "python",
   "name": "python3"
  },
  "language_info": {
   "codemirror_mode": {
    "name": "ipython",
    "version": 3
   },
   "file_extension": ".py",
   "mimetype": "text/x-python",
   "name": "python",
   "nbconvert_exporter": "python",
   "pygments_lexer": "ipython3",
   "version": "3.11.4"
  }
 },
 "nbformat": 4,
 "nbformat_minor": 5
}
